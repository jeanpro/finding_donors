{
 "cells": [
  {
   "cell_type": "markdown",
   "metadata": {},
   "source": [
    "# Machine Learning Engineer Nanodegree\n",
    "## Supervised Learning\n",
    "## Project: Finding Donors for *CharityML*"
   ]
  },
  {
   "cell_type": "markdown",
   "metadata": {},
   "source": [
    "Welcome to the second project of the Machine Learning Engineer Nanodegree! In this notebook, some template code has already been provided for you, and it will be your job to implement the additional functionality necessary to successfully complete this project. Sections that begin with **'Implementation'** in the header indicate that the following block of code will require additional functionality which you must provide. Instructions will be provided for each section and the specifics of the implementation are marked in the code block with a `'TODO'` statement. Please be sure to read the instructions carefully!\n",
    "\n",
    "In addition to implementing code, there will be questions that you must answer which relate to the project and your implementation. Each section where you will answer a question is preceded by a **'Question X'** header. Carefully read each question and provide thorough answers in the following text boxes that begin with **'Answer:'**. Your project submission will be evaluated based on your answers to each of the questions and the implementation you provide.  \n",
    "\n",
    ">**Note:** Please specify WHICH VERSION OF PYTHON you are using when submitting this notebook. Code and Markdown cells can be executed using the **Shift + Enter** keyboard shortcut. In addition, Markdown cells can be edited by typically double-clicking the cell to enter edit mode."
   ]
  },
  {
   "cell_type": "markdown",
   "metadata": {},
   "source": [
    "## Getting Started\n",
    "\n",
    "In this project, you will employ several supervised algorithms of your choice to accurately model individuals' income using data collected from the 1994 U.S. Census. You will then choose the best candidate algorithm from preliminary results and further optimize this algorithm to best model the data. Your goal with this implementation is to construct a model that accurately predicts whether an individual makes more than $50,000. This sort of task can arise in a non-profit setting, where organizations survive on donations.  Understanding an individual's income can help a non-profit better understand how large of a donation to request, or whether or not they should reach out to begin with.  While it can be difficult to determine an individual's general income bracket directly from public sources, we can (as we will see) infer this value from other publically available features. \n",
    "\n",
    "The dataset for this project originates from the [UCI Machine Learning Repository](https://archive.ics.uci.edu/ml/datasets/Census+Income). The datset was donated by Ron Kohavi and Barry Becker, after being published in the article _\"Scaling Up the Accuracy of Naive-Bayes Classifiers: A Decision-Tree Hybrid\"_. You can find the article by Ron Kohavi [online](https://www.aaai.org/Papers/KDD/1996/KDD96-033.pdf). The data we investigate here consists of small changes to the original dataset, such as removing the `'fnlwgt'` feature and records with missing or ill-formatted entries."
   ]
  },
  {
   "cell_type": "markdown",
   "metadata": {},
   "source": [
    "----\n",
    "## Exploring the Data\n",
    "Run the code cell below to load necessary Python libraries and load the census data. Note that the last column from this dataset, `'income'`, will be our target label (whether an individual makes more than, or at most, $50,000 annually). All other columns are features about each individual in the census database."
   ]
  },
  {
   "cell_type": "code",
   "execution_count": 1,
   "metadata": {},
   "outputs": [
    {
     "data": {
      "text/html": [
       "<div>\n",
       "<style scoped>\n",
       "    .dataframe tbody tr th:only-of-type {\n",
       "        vertical-align: middle;\n",
       "    }\n",
       "\n",
       "    .dataframe tbody tr th {\n",
       "        vertical-align: top;\n",
       "    }\n",
       "\n",
       "    .dataframe thead th {\n",
       "        text-align: right;\n",
       "    }\n",
       "</style>\n",
       "<table border=\"1\" class=\"dataframe\">\n",
       "  <thead>\n",
       "    <tr style=\"text-align: right;\">\n",
       "      <th></th>\n",
       "      <th>age</th>\n",
       "      <th>workclass</th>\n",
       "      <th>education_level</th>\n",
       "      <th>education-num</th>\n",
       "      <th>marital-status</th>\n",
       "      <th>occupation</th>\n",
       "      <th>relationship</th>\n",
       "      <th>race</th>\n",
       "      <th>sex</th>\n",
       "      <th>capital-gain</th>\n",
       "      <th>capital-loss</th>\n",
       "      <th>hours-per-week</th>\n",
       "      <th>native-country</th>\n",
       "      <th>income</th>\n",
       "    </tr>\n",
       "  </thead>\n",
       "  <tbody>\n",
       "    <tr>\n",
       "      <th>0</th>\n",
       "      <td>39</td>\n",
       "      <td>State-gov</td>\n",
       "      <td>Bachelors</td>\n",
       "      <td>13.0</td>\n",
       "      <td>Never-married</td>\n",
       "      <td>Adm-clerical</td>\n",
       "      <td>Not-in-family</td>\n",
       "      <td>White</td>\n",
       "      <td>Male</td>\n",
       "      <td>2174.0</td>\n",
       "      <td>0.0</td>\n",
       "      <td>40.0</td>\n",
       "      <td>United-States</td>\n",
       "      <td>&lt;=50K</td>\n",
       "    </tr>\n",
       "  </tbody>\n",
       "</table>\n",
       "</div>"
      ],
      "text/plain": [
       "   age   workclass education_level  education-num  marital-status  \\\n",
       "0   39   State-gov       Bachelors           13.0   Never-married   \n",
       "\n",
       "      occupation    relationship    race    sex  capital-gain  capital-loss  \\\n",
       "0   Adm-clerical   Not-in-family   White   Male        2174.0           0.0   \n",
       "\n",
       "   hours-per-week  native-country income  \n",
       "0            40.0   United-States  <=50K  "
      ]
     },
     "metadata": {},
     "output_type": "display_data"
    }
   ],
   "source": [
    "# Import libraries necessary for this project\n",
    "import numpy as np\n",
    "import pandas as pd\n",
    "from time import time\n",
    "from IPython.display import display # Allows the use of display() for DataFrames\n",
    "\n",
    "# Import supplementary visualization code visuals.py\n",
    "import visuals as vs\n",
    "\n",
    "# Pretty display for notebooks\n",
    "%matplotlib inline\n",
    "\n",
    "# Load the Census dataset\n",
    "data = pd.read_csv(\"census.csv\")\n",
    "\n",
    "# Success - Display the first record\n",
    "display(data.head(n=1))"
   ]
  },
  {
   "cell_type": "markdown",
   "metadata": {},
   "source": [
    "### Implementation: Data Exploration\n",
    "A cursory investigation of the dataset will determine how many individuals fit into either group, and will tell us about the percentage of these individuals making more than \\$50,000. In the code cell below, you will need to compute the following:\n",
    "- The total number of records, `'n_records'`\n",
    "- The number of individuals making more than \\$50,000 annually, `'n_greater_50k'`.\n",
    "- The number of individuals making at most \\$50,000 annually, `'n_at_most_50k'`.\n",
    "- The percentage of individuals making more than \\$50,000 annually, `'greater_percent'`.\n",
    "\n",
    "** HINT: ** You may need to look at the table above to understand how the `'income'` entries are formatted. "
   ]
  },
  {
   "cell_type": "code",
<<<<<<< HEAD
   "execution_count": 2,
   "metadata": {},
   "outputs": [
    {
     "name": "stdout",
     "output_type": "stream",
     "text": [
      "Total number of records: 45222\n",
      "Individuals making more than $50,000: 11208\n",
      "Individuals making at most $50,000: 34014\n",
      "Percentage of individuals making more than $50,000: 24.78439697492371%\n"
     ]
    }
   ],
   "source": [
    "# TODO: Total number of records\n",
    "n_records = len(data.index)\n",
    "\n",
    "# TODO: Number of records where individual's income is more than $50,000\n",
    "n_greater_50k = len(data[data['income'] == '>50K'].index)\n",
    "\n",
    "# TODO: Number of records where individual's income is at most $50,000\n",
    "n_at_most_50k = len(data[data['income'] == '<=50K'].index)\n",
    "\n",
    "# TODO: Percentage of individuals whose income is more than $50,000\n",
    "greater_percent = 100*n_greater_50k/n_records\n",
=======
   "execution_count": null,
   "metadata": {
    "collapsed": true
   },
   "outputs": [],
   "source": [
    "# TODO: Total number of records\n",
    "n_records = None\n",
    "\n",
    "# TODO: Number of records where individual's income is more than $50,000\n",
    "n_greater_50k = None\n",
    "\n",
    "# TODO: Number of records where individual's income is at most $50,000\n",
    "n_at_most_50k = None\n",
    "\n",
    "# TODO: Percentage of individuals whose income is more than $50,000\n",
    "greater_percent = None\n",
>>>>>>> 97ecc4fbb9842024bb1ca171781fa33917653dad
    "\n",
    "# Print the results\n",
    "print(\"Total number of records: {}\".format(n_records))\n",
    "print(\"Individuals making more than $50,000: {}\".format(n_greater_50k))\n",
    "print(\"Individuals making at most $50,000: {}\".format(n_at_most_50k))\n",
    "print(\"Percentage of individuals making more than $50,000: {}%\".format(greater_percent))"
   ]
  },
  {
   "cell_type": "markdown",
   "metadata": {},
   "source": [
    "** Featureset Exploration **\n",
    "\n",
    "* **age**: continuous. \n",
    "* **workclass**: Private, Self-emp-not-inc, Self-emp-inc, Federal-gov, Local-gov, State-gov, Without-pay, Never-worked. \n",
    "* **education**: Bachelors, Some-college, 11th, HS-grad, Prof-school, Assoc-acdm, Assoc-voc, 9th, 7th-8th, 12th, Masters, 1st-4th, 10th, Doctorate, 5th-6th, Preschool. \n",
    "* **education-num**: continuous. \n",
    "* **marital-status**: Married-civ-spouse, Divorced, Never-married, Separated, Widowed, Married-spouse-absent, Married-AF-spouse. \n",
    "* **occupation**: Tech-support, Craft-repair, Other-service, Sales, Exec-managerial, Prof-specialty, Handlers-cleaners, Machine-op-inspct, Adm-clerical, Farming-fishing, Transport-moving, Priv-house-serv, Protective-serv, Armed-Forces. \n",
    "* **relationship**: Wife, Own-child, Husband, Not-in-family, Other-relative, Unmarried. \n",
    "* **race**: Black, White, Asian-Pac-Islander, Amer-Indian-Eskimo, Other. \n",
    "* **sex**: Female, Male. \n",
    "* **capital-gain**: continuous. \n",
    "* **capital-loss**: continuous. \n",
    "* **hours-per-week**: continuous. \n",
    "* **native-country**: United-States, Cambodia, England, Puerto-Rico, Canada, Germany, Outlying-US(Guam-USVI-etc), India, Japan, Greece, South, China, Cuba, Iran, Honduras, Philippines, Italy, Poland, Jamaica, Vietnam, Mexico, Portugal, Ireland, France, Dominican-Republic, Laos, Ecuador, Taiwan, Haiti, Columbia, Hungary, Guatemala, Nicaragua, Scotland, Thailand, Yugoslavia, El-Salvador, Trinadad&Tobago, Peru, Hong, Holand-Netherlands."
   ]
  },
  {
   "cell_type": "markdown",
   "metadata": {},
   "source": [
    "----\n",
    "## Preparing the Data\n",
    "Before data can be used as input for machine learning algorithms, it often must be cleaned, formatted, and restructured — this is typically known as **preprocessing**. Fortunately, for this dataset, there are no invalid or missing entries we must deal with, however, there are some qualities about certain features that must be adjusted. This preprocessing can help tremendously with the outcome and predictive power of nearly all learning algorithms."
   ]
  },
  {
   "cell_type": "markdown",
   "metadata": {},
   "source": [
    "### Transforming Skewed Continuous Features\n",
    "A dataset may sometimes contain at least one feature whose values tend to lie near a single number, but will also have a non-trivial number of vastly larger or smaller values than that single number.  Algorithms can be sensitive to such distributions of values and can underperform if the range is not properly normalized. With the census dataset two features fit this description: '`capital-gain'` and `'capital-loss'`. \n",
    "\n",
    "Run the code cell below to plot a histogram of these two features. Note the range of the values present and how they are distributed."
   ]
  },
  {
   "cell_type": "code",
   "execution_count": 3,
   "metadata": {},
   "outputs": [
    {
     "data": {
<<<<<<< HEAD
      "image/png": "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\n",
=======
      "image/png": "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\n",
>>>>>>> 97ecc4fbb9842024bb1ca171781fa33917653dad
      "text/plain": [
       "<Figure size 792x360 with 2 Axes>"
      ]
     },
<<<<<<< HEAD
     "metadata": {
      "needs_background": "light"
     },
=======
     "metadata": {},
>>>>>>> 97ecc4fbb9842024bb1ca171781fa33917653dad
     "output_type": "display_data"
    }
   ],
   "source": [
    "# Split the data into features and target label\n",
    "income_raw = data['income']\n",
    "features_raw = data.drop('income', axis = 1)\n",
    "\n",
    "# Visualize skewed continuous features of original data\n",
    "vs.distribution(data)"
   ]
  },
  {
   "cell_type": "markdown",
   "metadata": {},
   "source": [
    "For highly-skewed feature distributions such as `'capital-gain'` and `'capital-loss'`, it is common practice to apply a <a href=\"https://en.wikipedia.org/wiki/Data_transformation_(statistics)\">logarithmic transformation</a> on the data so that the very large and very small values do not negatively affect the performance of a learning algorithm. Using a logarithmic transformation significantly reduces the range of values caused by outliers. Care must be taken when applying this transformation however: The logarithm of `0` is undefined, so we must translate the values by a small amount above `0` to apply the the logarithm successfully.\n",
    "\n",
    "Run the code cell below to perform a transformation on the data and visualize the results. Again, note the range of values and how they are distributed. "
   ]
  },
  {
   "cell_type": "code",
   "execution_count": 4,
   "metadata": {},
   "outputs": [
    {
     "data": {
<<<<<<< HEAD
      "image/png": "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\n",
=======
      "image/png": "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\n",
>>>>>>> 97ecc4fbb9842024bb1ca171781fa33917653dad
      "text/plain": [
       "<Figure size 792x360 with 2 Axes>"
      ]
     },
<<<<<<< HEAD
     "metadata": {
      "needs_background": "light"
     },
=======
     "metadata": {},
>>>>>>> 97ecc4fbb9842024bb1ca171781fa33917653dad
     "output_type": "display_data"
    }
   ],
   "source": [
    "# Log-transform the skewed features\n",
    "skewed = ['capital-gain', 'capital-loss']\n",
    "features_log_transformed = pd.DataFrame(data = features_raw)\n",
    "features_log_transformed[skewed] = features_raw[skewed].apply(lambda x: np.log(x + 1))\n",
    "\n",
    "# Visualize the new log distributions\n",
    "vs.distribution(features_log_transformed, transformed = True)"
   ]
  },
  {
   "cell_type": "markdown",
   "metadata": {},
   "source": [
    "### Normalizing Numerical Features\n",
    "In addition to performing transformations on features that are highly skewed, it is often good practice to perform some type of scaling on numerical features. Applying a scaling to the data does not change the shape of each feature's distribution (such as `'capital-gain'` or `'capital-loss'` above); however, normalization ensures that each feature is treated equally when applying supervised learners. Note that once scaling is applied, observing the data in its raw form will no longer have the same original meaning, as exampled below.\n",
    "\n",
    "Run the code cell below to normalize each numerical feature. We will use [`sklearn.preprocessing.MinMaxScaler`](http://scikit-learn.org/stable/modules/generated/sklearn.preprocessing.MinMaxScaler.html) for this."
   ]
  },
  {
   "cell_type": "code",
   "execution_count": 5,
   "metadata": {},
   "outputs": [
    {
     "data": {
      "text/html": [
       "<div>\n",
       "<style scoped>\n",
       "    .dataframe tbody tr th:only-of-type {\n",
       "        vertical-align: middle;\n",
       "    }\n",
       "\n",
       "    .dataframe tbody tr th {\n",
       "        vertical-align: top;\n",
       "    }\n",
       "\n",
       "    .dataframe thead th {\n",
       "        text-align: right;\n",
       "    }\n",
       "</style>\n",
       "<table border=\"1\" class=\"dataframe\">\n",
       "  <thead>\n",
       "    <tr style=\"text-align: right;\">\n",
       "      <th></th>\n",
       "      <th>age</th>\n",
       "      <th>workclass</th>\n",
       "      <th>education_level</th>\n",
       "      <th>education-num</th>\n",
       "      <th>marital-status</th>\n",
       "      <th>occupation</th>\n",
       "      <th>relationship</th>\n",
       "      <th>race</th>\n",
       "      <th>sex</th>\n",
       "      <th>capital-gain</th>\n",
       "      <th>capital-loss</th>\n",
       "      <th>hours-per-week</th>\n",
       "      <th>native-country</th>\n",
       "    </tr>\n",
       "  </thead>\n",
       "  <tbody>\n",
       "    <tr>\n",
       "      <th>0</th>\n",
       "      <td>0.301370</td>\n",
       "      <td>State-gov</td>\n",
       "      <td>Bachelors</td>\n",
       "      <td>0.800000</td>\n",
       "      <td>Never-married</td>\n",
       "      <td>Adm-clerical</td>\n",
       "      <td>Not-in-family</td>\n",
       "      <td>White</td>\n",
       "      <td>Male</td>\n",
       "      <td>0.667492</td>\n",
       "      <td>0.0</td>\n",
       "      <td>0.397959</td>\n",
       "      <td>United-States</td>\n",
       "    </tr>\n",
       "    <tr>\n",
       "      <th>1</th>\n",
       "      <td>0.452055</td>\n",
       "      <td>Self-emp-not-inc</td>\n",
       "      <td>Bachelors</td>\n",
       "      <td>0.800000</td>\n",
       "      <td>Married-civ-spouse</td>\n",
       "      <td>Exec-managerial</td>\n",
       "      <td>Husband</td>\n",
       "      <td>White</td>\n",
       "      <td>Male</td>\n",
       "      <td>0.000000</td>\n",
       "      <td>0.0</td>\n",
       "      <td>0.122449</td>\n",
       "      <td>United-States</td>\n",
       "    </tr>\n",
       "    <tr>\n",
       "      <th>2</th>\n",
       "      <td>0.287671</td>\n",
       "      <td>Private</td>\n",
       "      <td>HS-grad</td>\n",
       "      <td>0.533333</td>\n",
       "      <td>Divorced</td>\n",
       "      <td>Handlers-cleaners</td>\n",
       "      <td>Not-in-family</td>\n",
       "      <td>White</td>\n",
       "      <td>Male</td>\n",
       "      <td>0.000000</td>\n",
       "      <td>0.0</td>\n",
       "      <td>0.397959</td>\n",
       "      <td>United-States</td>\n",
       "    </tr>\n",
       "    <tr>\n",
       "      <th>3</th>\n",
       "      <td>0.493151</td>\n",
       "      <td>Private</td>\n",
       "      <td>11th</td>\n",
       "      <td>0.400000</td>\n",
       "      <td>Married-civ-spouse</td>\n",
       "      <td>Handlers-cleaners</td>\n",
       "      <td>Husband</td>\n",
       "      <td>Black</td>\n",
       "      <td>Male</td>\n",
       "      <td>0.000000</td>\n",
       "      <td>0.0</td>\n",
       "      <td>0.397959</td>\n",
       "      <td>United-States</td>\n",
       "    </tr>\n",
       "    <tr>\n",
       "      <th>4</th>\n",
       "      <td>0.150685</td>\n",
       "      <td>Private</td>\n",
       "      <td>Bachelors</td>\n",
       "      <td>0.800000</td>\n",
       "      <td>Married-civ-spouse</td>\n",
       "      <td>Prof-specialty</td>\n",
       "      <td>Wife</td>\n",
       "      <td>Black</td>\n",
       "      <td>Female</td>\n",
       "      <td>0.000000</td>\n",
       "      <td>0.0</td>\n",
       "      <td>0.397959</td>\n",
       "      <td>Cuba</td>\n",
       "    </tr>\n",
       "  </tbody>\n",
       "</table>\n",
       "</div>"
      ],
      "text/plain": [
       "        age          workclass education_level  education-num  \\\n",
       "0  0.301370          State-gov       Bachelors       0.800000   \n",
       "1  0.452055   Self-emp-not-inc       Bachelors       0.800000   \n",
       "2  0.287671            Private         HS-grad       0.533333   \n",
       "3  0.493151            Private            11th       0.400000   \n",
       "4  0.150685            Private       Bachelors       0.800000   \n",
       "\n",
       "        marital-status          occupation    relationship    race      sex  \\\n",
       "0        Never-married        Adm-clerical   Not-in-family   White     Male   \n",
       "1   Married-civ-spouse     Exec-managerial         Husband   White     Male   \n",
       "2             Divorced   Handlers-cleaners   Not-in-family   White     Male   \n",
       "3   Married-civ-spouse   Handlers-cleaners         Husband   Black     Male   \n",
       "4   Married-civ-spouse      Prof-specialty            Wife   Black   Female   \n",
       "\n",
       "   capital-gain  capital-loss  hours-per-week  native-country  \n",
       "0      0.667492           0.0        0.397959   United-States  \n",
       "1      0.000000           0.0        0.122449   United-States  \n",
       "2      0.000000           0.0        0.397959   United-States  \n",
       "3      0.000000           0.0        0.397959   United-States  \n",
       "4      0.000000           0.0        0.397959            Cuba  "
      ]
     },
     "metadata": {},
     "output_type": "display_data"
    }
   ],
   "source": [
    "# Import sklearn.preprocessing.StandardScaler\n",
    "from sklearn.preprocessing import MinMaxScaler\n",
    "\n",
    "# Initialize a scaler, then apply it to the features\n",
    "scaler = MinMaxScaler() # default=(0, 1)\n",
    "numerical = ['age', 'education-num', 'capital-gain', 'capital-loss', 'hours-per-week']\n",
    "\n",
    "features_log_minmax_transform = pd.DataFrame(data = features_log_transformed)\n",
    "features_log_minmax_transform[numerical] = scaler.fit_transform(features_log_transformed[numerical])\n",
    "\n",
    "# Show an example of a record with scaling applied\n",
    "display(features_log_minmax_transform.head(n = 5))"
   ]
  },
  {
   "cell_type": "markdown",
   "metadata": {},
   "source": [
    "### Implementation: Data Preprocessing\n",
    "\n",
    "From the table in **Exploring the Data** above, we can see there are several features for each record that are non-numeric. Typically, learning algorithms expect input to be numeric, which requires that non-numeric features (called *categorical variables*) be converted. One popular way to convert categorical variables is by using the **one-hot encoding** scheme. One-hot encoding creates a _\"dummy\"_ variable for each possible category of each non-numeric feature. For example, assume `someFeature` has three possible entries: `A`, `B`, or `C`. We then encode this feature into `someFeature_A`, `someFeature_B` and `someFeature_C`.\n",
    "\n",
    "|   | someFeature |                    | someFeature_A | someFeature_B | someFeature_C |\n",
    "| :-: | :-: |                            | :-: | :-: | :-: |\n",
    "| 0 |  B  |  | 0 | 1 | 0 |\n",
    "| 1 |  C  | ----> one-hot encode ----> | 0 | 0 | 1 |\n",
    "| 2 |  A  |  | 1 | 0 | 0 |\n",
    "\n",
    "Additionally, as with the non-numeric features, we need to convert the non-numeric target label, `'income'` to numerical values for the learning algorithm to work. Since there are only two possible categories for this label (\"<=50K\" and \">50K\"), we can avoid using one-hot encoding and simply encode these two categories as `0` and `1`, respectively. In code cell below, you will need to implement the following:\n",
    " - Use [`pandas.get_dummies()`](http://pandas.pydata.org/pandas-docs/stable/generated/pandas.get_dummies.html?highlight=get_dummies#pandas.get_dummies) to perform one-hot encoding on the `'features_log_minmax_transform'` data.\n",
    " - Convert the target label `'income_raw'` to numerical entries.\n",
    "   - Set records with \"<=50K\" to `0` and records with \">50K\" to `1`."
   ]
  },
  {
   "cell_type": "code",
   "execution_count": 6,
   "metadata": {
    "scrolled": true
   },
   "outputs": [
    {
     "name": "stdout",
     "output_type": "stream",
     "text": [
      "103 total features after one-hot encoding.\n"
     ]
    }
   ],
   "source": [
    "# TODO: One-hot encode the 'features_log_minmax_transform' data using pandas.get_dummies()\n",
    "features_final = pd.get_dummies(features_log_minmax_transform)\n",
    "\n",
    "# TODO: Encode the 'income_raw' data to numerical values\n",
    "income = income_raw.map(lambda x: 1 if x == '>50K' else 0)\n",
    "\n",
    "# Print the number of features after one-hot encoding\n",
    "encoded = list(features_final.columns)\n",
    "print(\"{} total features after one-hot encoding.\".format(len(encoded)))\n",
    "\n",
    "# Uncomment the following line to see the encoded feature names\n",
    "# print encoded"
   ]
  },
  {
   "cell_type": "markdown",
   "metadata": {},
   "source": [
    "### Shuffle and Split Data\n",
    "Now all _categorical variables_ have been converted into numerical features, and all numerical features have been normalized. As always, we will now split the data (both features and their labels) into training and test sets. 80% of the data will be used for training and 20% for testing.\n",
    "\n",
    "Run the code cell below to perform this split."
   ]
  },
  {
   "cell_type": "code",
   "execution_count": 7,
   "metadata": {},
   "outputs": [
    {
     "name": "stdout",
     "output_type": "stream",
     "text": [
      "Training set has 36177 samples.\n",
      "Testing set has 9045 samples.\n"
     ]
<<<<<<< HEAD
=======
    },
    {
     "name": "stderr",
     "output_type": "stream",
     "text": [
      "C:\\Program Files\\Anaconda3-5.2.0\\lib\\site-packages\\sklearn\\cross_validation.py:41: DeprecationWarning: This module was deprecated in version 0.18 in favor of the model_selection module into which all the refactored classes and functions are moved. Also note that the interface of the new CV iterators are different from that of this module. This module will be removed in 0.20.\n",
      "  \"This module will be removed in 0.20.\", DeprecationWarning)\n"
     ]
>>>>>>> 97ecc4fbb9842024bb1ca171781fa33917653dad
    }
   ],
   "source": [
    "# Import train_test_split\n",
<<<<<<< HEAD
    "from sklearn.model_selection import train_test_split ## Using the new model_selection module\n",
=======
    "from sklearn.cross_validation import train_test_split\n",
>>>>>>> 97ecc4fbb9842024bb1ca171781fa33917653dad
    "\n",
    "# Split the 'features' and 'income' data into training and testing sets\n",
    "X_train, X_test, y_train, y_test = train_test_split(features_final, \n",
    "                                                    income, \n",
    "                                                    test_size = 0.2, \n",
    "                                                    random_state = 0)\n",
    "\n",
    "# Show the results of the split\n",
    "print(\"Training set has {} samples.\".format(X_train.shape[0]))\n",
    "print(\"Testing set has {} samples.\".format(X_test.shape[0]))"
   ]
  },
  {
   "cell_type": "markdown",
   "metadata": {},
   "source": [
    "----\n",
    "## Evaluating Model Performance\n",
    "In this section, we will investigate four different algorithms, and determine which is best at modeling the data. Three of these algorithms will be supervised learners of your choice, and the fourth algorithm is known as a *naive predictor*."
   ]
  },
  {
   "cell_type": "markdown",
   "metadata": {},
   "source": [
    "### Metrics and the Naive Predictor\n",
    "*CharityML*, equipped with their research, knows individuals that make more than \\$50,000 are most likely to donate to their charity. Because of this, *CharityML* is particularly interested in predicting who makes more than \\$50,000 accurately. It would seem that using **accuracy** as a metric for evaluating a particular model's performace would be appropriate. Additionally, identifying someone that *does not* make more than \\$50,000 as someone who does would be detrimental to *CharityML*, since they are looking to find individuals willing to donate. Therefore, a model's ability to precisely predict those that make more than \\$50,000 is *more important* than the model's ability to **recall** those individuals. We can use **F-beta score** as a metric that considers both precision and recall:\n",
    "\n",
    "$$ F_{\\beta} = (1 + \\beta^2) \\cdot \\frac{precision \\cdot recall}{\\left( \\beta^2 \\cdot precision \\right) + recall} $$\n",
    "\n",
    "In particular, when $\\beta = 0.5$, more emphasis is placed on precision. This is called the **F$_{0.5}$ score** (or F-score for simplicity).\n",
    "\n",
    "Looking at the distribution of classes (those who make at most \\$50,000, and those who make more), it's clear most individuals do not make more than \\$50,000. This can greatly affect **accuracy**, since we could simply say *\"this person does not make more than \\$50,000\"* and generally be right, without ever looking at the data! Making such a statement would be called **naive**, since we have not considered any information to substantiate the claim. It is always important to consider the *naive prediction* for your data, to help establish a benchmark for whether a model is performing well. That been said, using that prediction would be pointless: If we predicted all people made less than \\$50,000, *CharityML* would identify no one as donors. \n",
    "\n",
    "\n",
    "#### Note: Recap of accuracy, precision, recall\n",
    "\n",
    "** Accuracy ** measures how often the classifier makes the correct prediction. It’s the ratio of the number of correct predictions to the total number of predictions (the number of test data points).\n",
    "\n",
    "** Precision ** tells us what proportion of messages we classified as spam, actually were spam.\n",
    "It is a ratio of true positives(words classified as spam, and which are actually spam) to all positives(all words classified as spam, irrespective of whether that was the correct classificatio), in other words it is the ratio of\n",
    "\n",
    "`[True Positives/(True Positives + False Positives)]`\n",
    "\n",
    "** Recall(sensitivity)** tells us what proportion of messages that actually were spam were classified by us as spam.\n",
    "It is a ratio of true positives(words classified as spam, and which are actually spam) to all the words that were actually spam, in other words it is the ratio of\n",
    "\n",
    "`[True Positives/(True Positives + False Negatives)]`\n",
    "\n",
    "For classification problems that are skewed in their classification distributions like in our case, for example if we had a 100 text messages and only 2 were spam and the rest 98 weren't, accuracy by itself is not a very good metric. We could classify 90 messages as not spam(including the 2 that were spam but we classify them as not spam, hence they would be false negatives) and 10 as spam(all 10 false positives) and still get a reasonably good accuracy score. For such cases, precision and recall come in very handy. These two metrics can be combined to get the F1 score, which is weighted average(harmonic mean) of the precision and recall scores. This score can range from 0 to 1, with 1 being the best possible F1 score(we take the harmonic mean as we are dealing with ratios)."
   ]
  },
  {
   "cell_type": "markdown",
   "metadata": {},
   "source": [
    "### Question 1 - Naive Predictor Performace\n",
    "* If we chose a model that always predicted an individual made more than $50,000, what would  that model's accuracy and F-score be on this dataset? You must use the code cell below and assign your results to `'accuracy'` and `'fscore'` to be used later.\n",
    "\n",
    "** Please note ** that the the purpose of generating a naive predictor is simply to show what a base model without any intelligence would look like. In the real world, ideally your base model would be either the results of a previous model or could be based on a research paper upon which you are looking to improve. When there is no benchmark model set, getting a result better than random choice is a place you could start from.\n",
    "\n",
<<<<<<< HEAD
    "**HINT:** \n",
=======
    "** HINT: ** \n",
>>>>>>> 97ecc4fbb9842024bb1ca171781fa33917653dad
    "\n",
    "* When we have a model that always predicts '1' (i.e. the individual makes more than 50k) then our model will have no True Negatives(TN) or False Negatives(FN) as we are not making any negative('0' value) predictions. Therefore our Accuracy in this case becomes the same as our Precision(True Positives/(True Positives + False Positives)) as every prediction that we have made with value '1' that should have '0' becomes a False Positive; therefore our denominator in this case is the total number of records we have in total. \n",
    "* Our Recall score(True Positives/(True Positives + False Negatives)) in this setting becomes 1 as we have no False Negatives."
   ]
  },
  {
   "cell_type": "code",
<<<<<<< HEAD
   "execution_count": 9,
=======
   "execution_count": 26,
>>>>>>> 97ecc4fbb9842024bb1ca171781fa33917653dad
   "metadata": {},
   "outputs": [
    {
     "name": "stdout",
     "output_type": "stream",
     "text": [
      "Naive Predictor: [Accuracy score: 0.2478, F-score: 0.2917]\n"
     ]
    }
   ],
   "source": [
    "'''\n",
    "TP = np.sum(income) # Counting the ones as this is the naive case. Note that 'income' is the 'income_raw' data \n",
    "encoded to numerical values done in the data preprocessing step.\n",
    "FP = income.count() - TP # Specific to the naive case\n",
    "\n",
    "TN = 0 # No predicted negatives in the naive case\n",
    "FN = 0 # No predicted negatives in the naive case\n",
    "'''\n",
    "# TODO: Calculate accuracy, precision and recall\n",
    "TP = np.sum(income)\n",
<<<<<<< HEAD
    "accuracy = TP/(len(income))\n",
    "recall = TP/(TP + 0) ## no False Negatives\n",
    "precision = TP/(len(income))\n",
=======
    "FP = income.count()-TP\n",
    "TN = 0\n",
    "FN = 0\n",
    "accuracy = TP/(TP + FP)\n",
    "recall = TP/(TP + FN)\n",
    "precision = TP/(TP + FP)\n",
>>>>>>> 97ecc4fbb9842024bb1ca171781fa33917653dad
    "\n",
    "# TODO: Calculate F-score using the formula above for beta = 0.5 and correct values for precision and recall.\n",
    "beta = 0.5\n",
    "beta_2 = np.power(beta,2)\n",
<<<<<<< HEAD
    "fscore = (1 + beta_2)*(precision*recall)/((beta_2*precision) + recall)\n",
    "\n",
    "# Print the results \n",
    "print(\"Naive Predictor: [Accuracy score: {:.4f}, F-score: {:.4f}]\".format(accuracy, fscore))"
=======
    "fscore = (1+beta_2)*(precision * recall)/((beta_2*precision) + recall)\n",
    "\n",
    "# Print the results \n",
    "print(\"Naive Predictor: [Accuracy score: {:.4f}, F-score: {:.4f}]\".format(accuracy, fscore))\n"
>>>>>>> 97ecc4fbb9842024bb1ca171781fa33917653dad
   ]
  },
  {
   "cell_type": "markdown",
   "metadata": {},
   "source": [
    "###  Supervised Learning Models\n",
    "**The following are some of the supervised learning models that are currently available in** [`scikit-learn`](http://scikit-learn.org/stable/supervised_learning.html) **that you may choose from:**\n",
    "- Gaussian Naive Bayes (GaussianNB)\n",
    "- Decision Trees\n",
    "- Ensemble Methods (Bagging, AdaBoost, Random Forest, Gradient Boosting)\n",
    "- K-Nearest Neighbors (KNeighbors)\n",
    "- Stochastic Gradient Descent Classifier (SGDC)\n",
    "- Support Vector Machines (SVM)\n",
    "- Logistic Regression"
   ]
  },
  {
   "cell_type": "markdown",
   "metadata": {},
   "source": [
    "### Question 2 - Model Application\n",
    "List three of the supervised learning models above that are appropriate for this problem that you will test on the census data. For each model chosen\n",
    "\n",
    "- Describe one real-world application in industry where the model can be applied. \n",
    "- What are the strengths of the model; when does it perform well?\n",
    "- What are the weaknesses of the model; when does it perform poorly?\n",
    "- What makes this model a good candidate for the problem, given what you know about the data?\n",
    "\n",
    "** HINT: **\n",
    "\n",
    "Structure your answer in the same format as above^, with 4 parts for each of the three models you pick. Please include references with your answer."
   ]
  },
  {
   "cell_type": "markdown",
   "metadata": {},
   "source": [
<<<<<<< HEAD
    "**Answer:**\n",
    "\n",
    "  \n",
    "1) Random Forest:\n",
    "  * Real-world application:Churn Analysis (on my own company btw)\n",
    "  * Strenghts: As an ensemble classifier it is more powerful than weak learners on its own (decision trees). It is considerably faster to train compared to other ensemble models or even SVM. It works well when we want to understand feature importance, if you have a reasonable amount of features (not tens of thousends like on NLP) and if you need to explain the model as decision trees are easier to explain than SVM for instance. It also shows the probabilities which may be handy if you want to evaluate the model.\n",
    "  * Weaknesses: It is more complex to tune hyper parameters as you have more options than Naive Bayes for instance. Also, you need to be careful to not overfit your training dataset. It performs poorly if you have too many features because it will create a more complex model that may overfit/underfit. And if you don't have too much data as it splits the dataset into subsets.\n",
    "  \n",
    "2) Decision Trees on Ensemble Methods (AdaBoost):\n",
    " * Real-world application: Fraud detection based on purchase data.\n",
    " * Strenghts: Decision trees are easy to understand. Also, they can provide insights regarding feature importance, in other words, base on the results of the model we can evaluate the relationship between features and outcomes. It can be used on Ensemble Methods to decrease the data overfitting. \n",
    " * Weaknesses: If you don't adjust the hyper-parameters well you may ended up with data overfitting. Hence, it's not that easy to implement. It performs poorly when we don't have much data or when the hyper-parameters are not well defined overfitting our data.\n",
    " * Why is it a good candidate: By using ensemble methods it can outperform many other supervised learning models. Also, it can gives us a lot of insights about the features' distribution and importance torwards the decision process.\n",
    " \n",
    "3) SVM\n",
    "  * Real-wolrd application: Face detection. It creates boundaries by classifiying face and non-face parts of a picture.\n",
    "  * Strenghts: It can create a strong model as it takes into account margin error as well as classification error. Using the kernel trick we can outperform many models including Naive Bayes on the SPAM classification. We can use regularization (L1 or L2) to reduce overfitting and for feature selection.\n",
    "  * Weaknesses: It can be outperformed by gradient boosting trees (Kaggle competitions are a good benchmark). It is not easy to visualize as decision trees as we are talking about many dimensions. It performs poorly when the data is not easily separeted by a hyper-plane (which is not easy to guess)\n",
    "  * Why is it a good candidate: From the models listed, it was one the best due to it's algorithm and the kernel trick and regularization can improve a lot results compared to logistic regression for instance.\n",
    "  \n",
    "`OBS: I've tested Naive Bayes and it performs worse than the three above.`"
=======
    "**Answer: **"
>>>>>>> 97ecc4fbb9842024bb1ca171781fa33917653dad
   ]
  },
  {
   "cell_type": "markdown",
   "metadata": {},
   "source": [
    "### Implementation - Creating a Training and Predicting Pipeline\n",
    "To properly evaluate the performance of each model you've chosen, it's important that you create a training and predicting pipeline that allows you to quickly and effectively train models using various sizes of training data and perform predictions on the testing data. Your implementation here will be used in the following section.\n",
    "In the code block below, you will need to implement the following:\n",
    " - Import `fbeta_score` and `accuracy_score` from [`sklearn.metrics`](http://scikit-learn.org/stable/modules/classes.html#sklearn-metrics-metrics).\n",
    " - Fit the learner to the sampled training data and record the training time.\n",
    " - Perform predictions on the test data `X_test`, and also on the first 300 training points `X_train[:300]`.\n",
    "   - Record the total prediction time.\n",
    " - Calculate the accuracy score for both the training subset and testing set.\n",
    " - Calculate the F-score for both the training subset and testing set.\n",
    "   - Make sure that you set the `beta` parameter!"
   ]
  },
  {
   "cell_type": "code",
<<<<<<< HEAD
   "execution_count": 10,
=======
   "execution_count": 8,
>>>>>>> 97ecc4fbb9842024bb1ca171781fa33917653dad
   "metadata": {},
   "outputs": [],
   "source": [
    "# TODO: Import two metrics from sklearn - fbeta_score and accuracy_score\n",
    "from sklearn.metrics import fbeta_score, accuracy_score\n",
    "\n",
    "def train_predict(learner, sample_size, X_train, y_train, X_test, y_test): \n",
    "    '''\n",
    "    inputs:\n",
    "       - learner: the learning algorithm to be trained and predicted on\n",
    "       - sample_size: the size of samples (number) to be drawn from training set\n",
    "       - X_train: features training set\n",
    "       - y_train: income training set\n",
    "       - X_test: features testing set\n",
    "       - y_test: income testing set\n",
    "    '''\n",
    "    \n",
    "    results = {}\n",
    "    \n",
    "    # TODO: Fit the learner to the training data using slicing with 'sample_size' using .fit(training_features[:], training_labels[:])\n",
<<<<<<< HEAD
=======
    "    \n",
>>>>>>> 97ecc4fbb9842024bb1ca171781fa33917653dad
    "    start = time() # Get start time\n",
    "    learner = learner.fit(X_train.iloc[0:sample_size], y_train.iloc[0:sample_size])\n",
    "    end = time() # Get end time\n",
    "    \n",
    "    # TODO: Calculate the training time\n",
    "    results['train_time'] = end - start\n",
    "        \n",
    "    # TODO: Get the predictions on the test set(X_test),\n",
    "    #       then get predictions on the first 300 training samples(X_train) using .predict()\n",
    "    start = time() # Get start time\n",
    "    predictions_test = learner.predict(X_test.iloc[0:sample_size])\n",
    "    predictions_train = learner.predict(X_train.iloc[0:300])\n",
    "    end = time() # Get end time\n",
    "    \n",
    "    # TODO: Calculate the total prediction time\n",
    "    results['pred_time'] = end - start\n",
    "            \n",
    "    # TODO: Compute accuracy on the first 300 training samples which is y_train[:300]\n",
    "    results['acc_train'] = accuracy_score(y_train.iloc[0:300], predictions_train)\n",
    "        \n",
    "    # TODO: Compute accuracy on test set using accuracy_score()\n",
    "    results['acc_test'] = accuracy_score(y_test.iloc[0:sample_size], predictions_test)\n",
    "    \n",
    "    # TODO: Compute F-score on the the first 300 training samples using fbeta_score()\n",
    "    results['f_train'] = fbeta_score(y_train.iloc[0:300], predictions_train, beta=0.5)\n",
    "        \n",
    "    # TODO: Compute F-score on the test set which is y_test\n",
    "    results['f_test'] = fbeta_score(y_test.iloc[0:sample_size], predictions_test, beta=0.5)\n",
    "       \n",
    "    # Success\n",
    "    print(\"{} trained on {} samples.\".format(learner.__class__.__name__, sample_size))\n",
    "        \n",
    "    # Return the results\n",
    "    return results"
   ]
  },
  {
   "cell_type": "markdown",
   "metadata": {},
   "source": [
    "### Implementation: Initial Model Evaluation\n",
    "In the code cell, you will need to implement the following:\n",
    "- Import the three supervised learning models you've discussed in the previous section.\n",
    "- Initialize the three models and store them in `'clf_A'`, `'clf_B'`, and `'clf_C'`.\n",
    "  - Use a `'random_state'` for each model you use, if provided.\n",
    "  - **Note:** Use the default settings for each model — you will tune one specific model in a later section.\n",
    "- Calculate the number of records equal to 1%, 10%, and 100% of the training data.\n",
    "  - Store those values in `'samples_1'`, `'samples_10'`, and `'samples_100'` respectively.\n",
    "\n",
    "**Note:** Depending on which algorithms you chose, the following implementation may take some time to run!"
   ]
  },
  {
   "cell_type": "code",
<<<<<<< HEAD
   "execution_count": 11,
   "metadata": {},
   "outputs": [
    {
     "name": "stderr",
     "output_type": "stream",
     "text": [
      "/root/anaconda3/lib/python3.7/site-packages/sklearn/ensemble/weight_boosting.py:29: DeprecationWarning: numpy.core.umath_tests is an internal NumPy module and should not be imported. It will be removed in a future NumPy release.\n",
      "  from numpy.core.umath_tests import inner1d\n"
     ]
    },
    {
=======
   "execution_count": 45,
   "metadata": {},
   "outputs": [
    {
>>>>>>> 97ecc4fbb9842024bb1ca171781fa33917653dad
     "name": "stdout",
     "output_type": "stream",
     "text": [
      "RandomForestClassifier trained on 361 samples.\n",
      "RandomForestClassifier trained on 3617 samples.\n",
      "RandomForestClassifier trained on 36177 samples.\n",
      "AdaBoostClassifier trained on 361 samples.\n",
      "AdaBoostClassifier trained on 3617 samples.\n",
      "AdaBoostClassifier trained on 36177 samples.\n",
      "SVC trained on 361 samples.\n"
     ]
    },
    {
     "name": "stderr",
     "output_type": "stream",
     "text": [
<<<<<<< HEAD
      "/root/anaconda3/lib/python3.7/site-packages/sklearn/metrics/classification.py:1135: UndefinedMetricWarning: F-score is ill-defined and being set to 0.0 due to no predicted samples.\n",
=======
      "C:\\Program Files\\Anaconda3-5.2.0\\lib\\site-packages\\sklearn\\metrics\\classification.py:1135: UndefinedMetricWarning: F-score is ill-defined and being set to 0.0 due to no predicted samples.\n",
>>>>>>> 97ecc4fbb9842024bb1ca171781fa33917653dad
      "  'precision', 'predicted', average, warn_for)\n"
     ]
    },
    {
     "name": "stdout",
     "output_type": "stream",
     "text": [
      "SVC trained on 3617 samples.\n",
      "SVC trained on 36177 samples.\n"
     ]
    },
    {
     "data": {
<<<<<<< HEAD
      "image/png": "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\n",
=======
      "image/png": "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\n",
>>>>>>> 97ecc4fbb9842024bb1ca171781fa33917653dad
      "text/plain": [
       "<Figure size 792x504 with 8 Axes>"
      ]
     },
<<<<<<< HEAD
     "metadata": {
      "needs_background": "light"
     },
=======
     "metadata": {},
>>>>>>> 97ecc4fbb9842024bb1ca171781fa33917653dad
     "output_type": "display_data"
    }
   ],
   "source": [
    "# TODO: Import the three supervised learning models from sklearn\n",
<<<<<<< HEAD
    "from sklearn.ensemble import RandomForestClassifier, AdaBoostClassifier\n",
    "from sklearn.svm import SVC\n",
    "\n",
    "# TODO: Initialize the three models\n",
    "clf_A = RandomForestClassifier(random_state=42)\n",
    "clf_B = AdaBoostClassifier(random_state=42)\n",
    "clf_C = SVC(random_state=42)\n",
=======
    "\n",
    "from sklearn.naive_bayes import GaussianNB\n",
    "from sklearn.ensemble import AdaBoostClassifier, RandomForestClassifier\n",
    "from sklearn.svm import SVC\n",
    "# TODO: Initialize the three models\n",
    "random_state = 42\n",
    "clf_A = RandomForestClassifier(random_state=random_state)\n",
    "clf_B = AdaBoostClassifier(random_state=random_state)\n",
    "clf_C = SVC(random_state=random_state)\n",
>>>>>>> 97ecc4fbb9842024bb1ca171781fa33917653dad
    "\n",
    "# TODO: Calculate the number of samples for 1%, 10%, and 100% of the training data\n",
    "# HINT: samples_100 is the entire training set i.e. len(y_train)\n",
    "# HINT: samples_10 is 10% of samples_100 (ensure to set the count of the values to be `int` and not `float`)\n",
    "# HINT: samples_1 is 1% of samples_100 (ensure to set the count of the values to be `int` and not `float`)\n",
    "samples_100 = len(y_train)\n",
    "samples_10 = int(0.1*samples_100)\n",
    "samples_1 = int(0.01*samples_100)\n",
    "\n",
    "# Collect results on the learners\n",
    "results = {}\n",
    "for clf in [clf_A, clf_B, clf_C]:\n",
    "    clf_name = clf.__class__.__name__\n",
    "    results[clf_name] = {}\n",
    "    for i, samples in enumerate([samples_1, samples_10, samples_100]):\n",
    "        results[clf_name][i] = \\\n",
    "        train_predict(clf, samples, X_train, y_train, X_test, y_test)\n",
    "\n",
    "# Run metrics visualization for the three supervised learning models chosen\n",
    "vs.evaluate(results, accuracy, fscore)"
   ]
  },
  {
   "cell_type": "markdown",
   "metadata": {},
   "source": [
    "----\n",
    "## Improving Results\n",
    "In this final section, you will choose from the three supervised learning models the *best* model to use on the student data. You will then perform a grid search optimization for the model over the entire training set (`X_train` and `y_train`) by tuning at least one parameter to improve upon the untuned model's F-score. "
   ]
  },
  {
<<<<<<< HEAD
   "cell_type": "code",
   "execution_count": 12,
   "metadata": {
    "scrolled": true
   },
   "outputs": [
    {
     "data": {
      "text/plain": [
       "{'RandomForestClassifier': {0: {'train_time': 0.007366180419921875,\n",
       "   'pred_time': 0.0017614364624023438,\n",
       "   'acc_train': 0.98,\n",
       "   'acc_test': 0.8227146814404432,\n",
       "   'f_train': 0.9821428571428572,\n",
       "   'f_test': 0.6055900621118012},\n",
       "  1: {'train_time': 0.023063182830810547,\n",
       "   'pred_time': 0.0055544376373291016,\n",
       "   'acc_train': 0.9933333333333333,\n",
       "   'acc_test': 0.8319048935581974,\n",
       "   'f_train': 0.9943181818181817,\n",
       "   'f_test': 0.6439078545656397},\n",
       "  2: {'train_time': 0.31508851051330566,\n",
       "   'pred_time': 0.022129058837890625,\n",
       "   'acc_train': 0.9733333333333334,\n",
       "   'acc_test': 0.8431177446102819,\n",
       "   'f_train': 0.9672619047619047,\n",
       "   'f_test': 0.6841786830694767}},\n",
       " 'AdaBoostClassifier': {0: {'train_time': 0.03761029243469238,\n",
       "   'pred_time': 0.007821083068847656,\n",
       "   'acc_train': 0.8933333333333333,\n",
       "   'acc_test': 0.7894736842105263,\n",
       "   'f_train': 0.8012820512820513,\n",
       "   'f_test': 0.5248618784530386},\n",
       "  1: {'train_time': 0.10715746879577637,\n",
       "   'pred_time': 0.022321701049804688,\n",
       "   'acc_train': 0.84,\n",
       "   'acc_test': 0.8432402543544374,\n",
       "   'f_train': 0.6801470588235293,\n",
       "   'f_test': 0.6714791609915554},\n",
       "  2: {'train_time': 0.9000988006591797,\n",
       "   'pred_time': 0.03723406791687012,\n",
       "   'acc_train': 0.85,\n",
       "   'acc_test': 0.8576008844665561,\n",
       "   'f_train': 0.7115384615384616,\n",
       "   'f_test': 0.7245508982035928}},\n",
       " 'SVC': {0: {'train_time': 0.008290290832519531,\n",
       "   'pred_time': 0.01274728775024414,\n",
       "   'acc_train': 0.76,\n",
       "   'acc_test': 0.7728531855955678,\n",
       "   'f_train': 0.0,\n",
       "   'f_test': 0.0},\n",
       "  1: {'train_time': 0.6840090751647949,\n",
       "   'pred_time': 0.6404690742492676,\n",
       "   'acc_train': 0.8333333333333334,\n",
       "   'acc_test': 0.8338401990599945,\n",
       "   'f_train': 0.6712962962962963,\n",
       "   'f_test': 0.6549074397485156},\n",
       "  2: {'train_time': 79.35642671585083,\n",
       "   'pred_time': 13.945340633392334,\n",
       "   'acc_train': 0.8533333333333334,\n",
       "   'acc_test': 0.8371475953565506,\n",
       "   'f_train': 0.7196969696969697,\n",
       "   'f_test': 0.6744771706996605}}}"
      ]
     },
     "metadata": {},
     "output_type": "display_data"
    }
   ],
   "source": [
    "## Displaying the results for a better comparisson\n",
    "\n",
    "display(results)"
   ]
  },
  {
=======
>>>>>>> 97ecc4fbb9842024bb1ca171781fa33917653dad
   "cell_type": "markdown",
   "metadata": {},
   "source": [
    "### Question 3 - Choosing the Best Model\n",
    "\n",
    "* Based on the evaluation you performed earlier, in one to two paragraphs, explain to *CharityML* which of the three models you believe to be most appropriate for the task of identifying individuals that make more than \\$50,000. \n",
    "\n",
    "** HINT: ** \n",
    "Look at the graph at the bottom left from the cell above(the visualization created by `vs.evaluate(results, accuracy, fscore)`) and check the F score for the testing set when 100% of the training set is used. Which model has the highest score? Your answer should include discussion of the:\n",
    "* metrics - F score on the testing when 100% of the training data is used, \n",
    "* prediction/training time\n",
    "* the algorithm's suitability for the data."
   ]
  },
  {
   "cell_type": "markdown",
   "metadata": {},
   "source": [
<<<<<<< HEAD
    "**Answer:**\n",
    "\n",
    "We believe that an ensemble method applied to a weak learner such as Decision Tree or SVM is the best model to use. This model at a default conditions (weak learner = Decision Tree) outperformed other methods such as Naive Bayes (Gaussian NB), SVM and even other ensemble methods such as Random Forest in terms of F-score and accuracy. Its F-score of 0.725 was 5% better than Random Forest at default conditions. In terms of training time it took slightly more time than Random Forests but small compare to the time taken by SVC which makes us believe that we can test more times different hyper parameters and features to improve it's performance. All of the above are by far outperforming the naive predictor.\n",
    "\n",
    "Based on the data at hand, we belive that decision trees on ensemble models such as AdaBoosting are the best type of model to apply to the presented data as we have two independent categories, both numerical and categorical features and historical data on each category. It will allow us to clearly see the features that are more important for us to focus on them. Therefore, this is a stronger model that is easier to visualize and can provide high accuracy/f-score."
=======
    "**Answer: **"
>>>>>>> 97ecc4fbb9842024bb1ca171781fa33917653dad
   ]
  },
  {
   "cell_type": "markdown",
   "metadata": {},
   "source": [
    "### Question 4 - Describing the Model in Layman's Terms\n",
    "\n",
    "* In one to two paragraphs, explain to *CharityML*, in layman's terms, how the final model chosen is supposed to work. Be sure that you are describing the major qualities of the model, such as how the model is trained and how the model makes a prediction. Avoid using advanced mathematical jargon, such as describing equations.\n",
    "\n",
    "** HINT: **\n",
    "\n",
    "When explaining your model, if using external resources please include all citations."
   ]
  },
  {
   "cell_type": "markdown",
   "metadata": {},
   "source": [
<<<<<<< HEAD
    "**Answer:** \n",
    "\n",
    "Adaboost is a boosting algorithm, in other words it combines a series of simpler models that will be trained over samples of the dataset and each one of them will levarege on the knowledge acquired on the previous models by trying to correct their mistakes. The final combination will be a series of models that together perform better at making the decision of a person earning more than USD50K per year or not based on the historical data. Imagine that each simpler/weaker model is focusing on a especific part of the data and together they can perform a better decision (wheather or not someone earns more than USD50K ). \n",
    "\n",
    "The simpler model that we may use is called `Decision Tree` and it's a good way of modelling problems that take more than one variable into consideration. In our case, we are looking at different features of a person to identify if this person earns more than $50K per year. The `Decision Tree` allows us to easily categorize these features and split our data into different scenarios such as male vs female, bachelors vs 11th grade, has investments or not and so on. The comparsion between outcomes of different features will lead us to make decisions based on historical model. It's almost like the `Decision Tree` would hold the knowledge that we will use to make decisions based on historical data (which characteristics someone that earns more than USD50K has that may help us spot more people that have similar earnings)."
=======
    "**Answer: ** "
>>>>>>> 97ecc4fbb9842024bb1ca171781fa33917653dad
   ]
  },
  {
   "cell_type": "markdown",
   "metadata": {},
   "source": [
    "### Implementation: Model Tuning\n",
    "Fine tune the chosen model. Use grid search (`GridSearchCV`) with at least one important parameter tuned with at least 3 different values. You will need to use the entire training set for this. In the code cell below, you will need to implement the following:\n",
    "- Import [`sklearn.grid_search.GridSearchCV`](http://scikit-learn.org/0.17/modules/generated/sklearn.grid_search.GridSearchCV.html) and [`sklearn.metrics.make_scorer`](http://scikit-learn.org/stable/modules/generated/sklearn.metrics.make_scorer.html).\n",
    "- Initialize the classifier you've chosen and store it in `clf`.\n",
    " - Set a `random_state` if one is available to the same state you set before.\n",
    "- Create a dictionary of parameters you wish to tune for the chosen model.\n",
    " - Example: `parameters = {'parameter' : [list of values]}`.\n",
    " - **Note:** Avoid tuning the `max_features` parameter of your learner if that parameter is available!\n",
    "- Use `make_scorer` to create an `fbeta_score` scoring object (with $\\beta = 0.5$).\n",
    "- Perform grid search on the classifier `clf` using the `'scorer'`, and store it in `grid_obj`.\n",
    "- Fit the grid search object to the training data (`X_train`, `y_train`), and store it in `grid_fit`.\n",
    "\n",
    "**Note:** Depending on the algorithm chosen and the parameter list, the following implementation may take some time to run!"
   ]
  },
  {
   "cell_type": "code",
<<<<<<< HEAD
   "execution_count": 14,
   "metadata": {
    "scrolled": true
   },
=======
   "execution_count": 37,
   "metadata": {},
>>>>>>> 97ecc4fbb9842024bb1ca171781fa33917653dad
   "outputs": [
    {
     "name": "stderr",
     "output_type": "stream",
     "text": [
<<<<<<< HEAD
      "/root/anaconda3/lib/python3.7/site-packages/sklearn/metrics/classification.py:1135: UndefinedMetricWarning: F-score is ill-defined and being set to 0.0 due to no predicted samples.\n",
      "  'precision', 'predicted', average, warn_for)\n",
      "/root/anaconda3/lib/python3.7/site-packages/sklearn/metrics/classification.py:1135: UndefinedMetricWarning: F-score is ill-defined and being set to 0.0 due to no predicted samples.\n",
      "  'precision', 'predicted', average, warn_for)\n",
      "/root/anaconda3/lib/python3.7/site-packages/sklearn/metrics/classification.py:1135: UndefinedMetricWarning: F-score is ill-defined and being set to 0.0 due to no predicted samples.\n",
      "  'precision', 'predicted', average, warn_for)\n",
      "/root/anaconda3/lib/python3.7/site-packages/sklearn/metrics/classification.py:1135: UndefinedMetricWarning: F-score is ill-defined and being set to 0.0 due to no predicted samples.\n",
      "  'precision', 'predicted', average, warn_for)\n",
      "/root/anaconda3/lib/python3.7/site-packages/sklearn/metrics/classification.py:1135: UndefinedMetricWarning: F-score is ill-defined and being set to 0.0 due to no predicted samples.\n",
=======
      "C:\\Program Files\\Anaconda3-5.2.0\\lib\\site-packages\\sklearn\\metrics\\classification.py:1135: UndefinedMetricWarning: F-score is ill-defined and being set to 0.0 due to no predicted samples.\n",
      "  'precision', 'predicted', average, warn_for)\n",
      "C:\\Program Files\\Anaconda3-5.2.0\\lib\\site-packages\\sklearn\\metrics\\classification.py:1135: UndefinedMetricWarning: F-score is ill-defined and being set to 0.0 due to no predicted samples.\n",
      "  'precision', 'predicted', average, warn_for)\n",
      "C:\\Program Files\\Anaconda3-5.2.0\\lib\\site-packages\\sklearn\\metrics\\classification.py:1135: UndefinedMetricWarning: F-score is ill-defined and being set to 0.0 due to no predicted samples.\n",
>>>>>>> 97ecc4fbb9842024bb1ca171781fa33917653dad
      "  'precision', 'predicted', average, warn_for)\n"
     ]
    },
    {
     "name": "stdout",
     "output_type": "stream",
     "text": [
      "Unoptimized model\n",
      "------\n",
<<<<<<< HEAD
      "Accuracy score on testing data: 0.8576\n",
      "F-score on testing data: 0.7246\n",
      "\n",
      "Optimized Model\n",
      "------\n",
      "Final accuracy score on the testing data: 0.8677\n",
      "Final F-score on the testing data: 0.7452\n"
=======
      "Accuracy score on testing data: 0.8371\n",
      "F-score on testing data: 0.6745\n",
      "\n",
      "Optimized Model\n",
      "------\n",
      "Final accuracy score on the testing data: 0.8387\n",
      "Final F-score on the testing data: 0.6778\n"
>>>>>>> 97ecc4fbb9842024bb1ca171781fa33917653dad
     ]
    }
   ],
   "source": [
    "# TODO: Import 'GridSearchCV', 'make_scorer', and any other necessary libraries\n",
<<<<<<< HEAD
    "from sklearn.ensemble import RandomForestClassifier, AdaBoostClassifier\n",
    "from sklearn.metrics import make_scorer, fbeta_score\n",
    "from sklearn.model_selection import GridSearchCV\n",
    "from sklearn.svm import SVC\n",
    "\n",
    "\n",
    "# TODO: Initialize the classifier\n",
    "clf = AdaBoostClassifier(random_state=42)\n",
    "\n",
    "# TODO: Create the parameters list you wish to tune, using a dictionary if needed.\n",
    "# HINT: parameters = {'parameter_1': [value1, value2], 'parameter_2': [value1, value2]}\n",
    "parameters = {'n_estimators': [10, 100, 200, 300, 500], 'learning_rate': [0.8, 1, 1.5, 2, 5]}\n",
=======
    "from sklearn.metrics import make_scorer\n",
    "from sklearn.svm import SVC\n",
    "from sklearn.model_selection import GridSearchCV\n",
    "\n",
    "# TODO: Initialize the classifier\n",
    "clf = SVC(random_state=42)\n",
    "\n",
    "# TODO: Create the parameters list you wish to tune, using a dictionary if needed.\n",
    "# HINT: parameters = {'parameter_1': [value1, value2], 'parameter_2': [value1, value2]}\n",
    "parameters = {'C': [1, 10, 100, 1000], 'gamma': [0.001, 0.0001], 'kernel': ['rbf']}\n",
>>>>>>> 97ecc4fbb9842024bb1ca171781fa33917653dad
    "\n",
    "# TODO: Make an fbeta_score scoring object using make_scorer()\n",
    "scorer = make_scorer(fbeta_score, beta=0.5)\n",
    "\n",
    "# TODO: Perform grid search on the classifier using 'scorer' as the scoring method using GridSearchCV()\n",
    "grid_obj = GridSearchCV(estimator=clf, param_grid=parameters, scoring=scorer)\n",
    "\n",
    "# TODO: Fit the grid search object to the training data and find the optimal parameters using fit()\n",
    "grid_fit = grid_obj.fit(X_train, y_train)\n",
    "\n",
    "# Get the estimator\n",
    "best_clf = grid_fit.best_estimator_\n",
    "\n",
    "# Make predictions using the unoptimized and model\n",
    "predictions = (clf.fit(X_train, y_train)).predict(X_test)\n",
    "best_predictions = best_clf.predict(X_test)\n",
    "\n",
    "# Report the before-and-afterscores\n",
    "print(\"Unoptimized model\\n------\")\n",
    "print(\"Accuracy score on testing data: {:.4f}\".format(accuracy_score(y_test, predictions)))\n",
    "print(\"F-score on testing data: {:.4f}\".format(fbeta_score(y_test, predictions, beta = 0.5)))\n",
    "print(\"\\nOptimized Model\\n------\")\n",
    "print(\"Final accuracy score on the testing data: {:.4f}\".format(accuracy_score(y_test, best_predictions)))\n",
    "print(\"Final F-score on the testing data: {:.4f}\".format(fbeta_score(y_test, best_predictions, beta = 0.5)))"
   ]
  },
  {
   "cell_type": "code",
<<<<<<< HEAD
   "execution_count": 22,
   "metadata": {},
   "outputs": [
    {
     "data": {
      "text/plain": [
       "AdaBoostClassifier(algorithm='SAMME.R', base_estimator=None,\n",
       "          learning_rate=0.8, n_estimators=200, random_state=42)"
      ]
     },
     "execution_count": 22,
=======
   "execution_count": 9,
   "metadata": {},
   "outputs": [
    {
     "name": "stderr",
     "output_type": "stream",
     "text": [
      "C:\\Program Files\\Anaconda3-5.2.0\\lib\\site-packages\\sklearn\\metrics\\classification.py:1135: UndefinedMetricWarning: F-score is ill-defined and being set to 0.0 due to no predicted samples.\n",
      "  'precision', 'predicted', average, warn_for)\n",
      "C:\\Program Files\\Anaconda3-5.2.0\\lib\\site-packages\\sklearn\\metrics\\classification.py:1135: UndefinedMetricWarning: F-score is ill-defined and being set to 0.0 due to no predicted samples.\n",
      "  'precision', 'predicted', average, warn_for)\n",
      "C:\\Program Files\\Anaconda3-5.2.0\\lib\\site-packages\\sklearn\\metrics\\classification.py:1135: UndefinedMetricWarning: F-score is ill-defined and being set to 0.0 due to no predicted samples.\n",
      "  'precision', 'predicted', average, warn_for)\n",
      "C:\\Program Files\\Anaconda3-5.2.0\\lib\\site-packages\\sklearn\\metrics\\classification.py:1135: UndefinedMetricWarning: F-score is ill-defined and being set to 0.0 due to no predicted samples.\n",
      "  'precision', 'predicted', average, warn_for)\n",
      "C:\\Program Files\\Anaconda3-5.2.0\\lib\\site-packages\\sklearn\\metrics\\classification.py:1135: UndefinedMetricWarning: F-score is ill-defined and being set to 0.0 due to no predicted samples.\n",
      "  'precision', 'predicted', average, warn_for)\n",
      "C:\\Program Files\\Anaconda3-5.2.0\\lib\\site-packages\\sklearn\\metrics\\classification.py:1135: UndefinedMetricWarning: F-score is ill-defined and being set to 0.0 due to no predicted samples.\n",
      "  'precision', 'predicted', average, warn_for)\n",
      "C:\\Program Files\\Anaconda3-5.2.0\\lib\\site-packages\\sklearn\\metrics\\classification.py:1135: UndefinedMetricWarning: F-score is ill-defined and being set to 0.0 due to no predicted samples.\n",
      "  'precision', 'predicted', average, warn_for)\n",
      "C:\\Program Files\\Anaconda3-5.2.0\\lib\\site-packages\\sklearn\\metrics\\classification.py:1135: UndefinedMetricWarning: F-score is ill-defined and being set to 0.0 due to no predicted samples.\n",
      "  'precision', 'predicted', average, warn_for)\n",
      "C:\\Program Files\\Anaconda3-5.2.0\\lib\\site-packages\\sklearn\\metrics\\classification.py:1135: UndefinedMetricWarning: F-score is ill-defined and being set to 0.0 due to no predicted samples.\n",
      "  'precision', 'predicted', average, warn_for)\n",
      "C:\\Program Files\\Anaconda3-5.2.0\\lib\\site-packages\\sklearn\\metrics\\classification.py:1135: UndefinedMetricWarning: F-score is ill-defined and being set to 0.0 due to no predicted samples.\n",
      "  'precision', 'predicted', average, warn_for)\n",
      "C:\\Program Files\\Anaconda3-5.2.0\\lib\\site-packages\\sklearn\\metrics\\classification.py:1135: UndefinedMetricWarning: F-score is ill-defined and being set to 0.0 due to no predicted samples.\n",
      "  'precision', 'predicted', average, warn_for)\n",
      "C:\\Program Files\\Anaconda3-5.2.0\\lib\\site-packages\\sklearn\\metrics\\classification.py:1135: UndefinedMetricWarning: F-score is ill-defined and being set to 0.0 due to no predicted samples.\n",
      "  'precision', 'predicted', average, warn_for)\n",
      "C:\\Program Files\\Anaconda3-5.2.0\\lib\\site-packages\\sklearn\\metrics\\classification.py:1135: UndefinedMetricWarning: F-score is ill-defined and being set to 0.0 due to no predicted samples.\n",
      "  'precision', 'predicted', average, warn_for)\n",
      "C:\\Program Files\\Anaconda3-5.2.0\\lib\\site-packages\\sklearn\\metrics\\classification.py:1135: UndefinedMetricWarning: F-score is ill-defined and being set to 0.0 due to no predicted samples.\n",
      "  'precision', 'predicted', average, warn_for)\n",
      "C:\\Program Files\\Anaconda3-5.2.0\\lib\\site-packages\\sklearn\\metrics\\classification.py:1135: UndefinedMetricWarning: F-score is ill-defined and being set to 0.0 due to no predicted samples.\n",
      "  'precision', 'predicted', average, warn_for)\n"
     ]
    },
    {
     "name": "stdout",
     "output_type": "stream",
     "text": [
      "Unoptimized model\n",
      "------\n",
      "Accuracy score on testing data: 0.8576\n",
      "F-score on testing data: 0.7246\n",
      "\n",
      "Optimized Model\n",
      "------\n",
      "Final accuracy score on the testing data: 0.8666\n",
      "Final F-score on the testing data: 0.7432\n"
     ]
    }
   ],
   "source": [
    "# TODO: Import 'GridSearchCV', 'make_scorer', and any other necessary libraries\n",
    "from sklearn.metrics import make_scorer\n",
    "from sklearn.ensemble import AdaBoostClassifier\n",
    "from sklearn.model_selection import GridSearchCV\n",
    "\n",
    "# TODO: Initialize the classifier\n",
    "clf2 = AdaBoostClassifier(random_state=42)\n",
    "\n",
    "# TODO: Create the parameters list you wish to tune, using a dictionary if needed.\n",
    "# HINT: parameters = {'parameter_1': [value1, value2], 'parameter_2': [value1, value2]}\n",
    "parameters = {'n_estimators': [5, 10, 50, 100, 200, 300], 'learning_rate': [0.1, 0.8, 1, 1.5, 2, 5 ,10]}\n",
    "\n",
    "# TODO: Make an fbeta_score scoring object using make_scorer()\n",
    "scorer2 = make_scorer(fbeta_score, beta=0.5)\n",
    "\n",
    "# TODO: Perform grid search on the classifier using 'scorer' as the scoring method using GridSearchCV()\n",
    "grid_obj2 = GridSearchCV(estimator=clf2, param_grid=parameters, scoring=scorer2)\n",
    "\n",
    "# TODO: Fit the grid search object to the training data and find the optimal parameters using fit()\n",
    "grid_fit2 = grid_obj2.fit(X_train, y_train)\n",
    "\n",
    "# Get the estimator\n",
    "best_clf2 = grid_fit2.best_estimator_\n",
    "\n",
    "# Make predictions using the unoptimized and model\n",
    "predictions = (clf2.fit(X_train, y_train)).predict(X_test)\n",
    "best_predictions = best_clf2.predict(X_test)\n",
    "\n",
    "# Report the before-and-afterscores\n",
    "print(\"Unoptimized model\\n------\")\n",
    "print(\"Accuracy score on testing data: {:.4f}\".format(accuracy_score(y_test, predictions)))\n",
    "print(\"F-score on testing data: {:.4f}\".format(fbeta_score(y_test, predictions, beta = 0.5)))\n",
    "print(\"\\nOptimized Model\\n------\")\n",
    "print(\"Final accuracy score on the testing data: {:.4f}\".format(accuracy_score(y_test, best_predictions)))\n",
    "print(\"Final F-score on the testing data: {:.4f}\".format(fbeta_score(y_test, best_predictions, beta = 0.5)))"
   ]
  },
  {
   "cell_type": "code",
   "execution_count": 11,
   "metadata": {
    "scrolled": true
   },
   "outputs": [
    {
     "data": {
      "text/plain": [
       "AdaBoostClassifier(algorithm='SAMME.R', base_estimator=None,\n",
       "          learning_rate=1.5, n_estimators=300, random_state=42)"
      ]
     },
     "execution_count": 11,
>>>>>>> 97ecc4fbb9842024bb1ca171781fa33917653dad
     "metadata": {},
     "output_type": "execute_result"
    }
   ],
   "source": [
<<<<<<< HEAD
    "## Displaying the best classifier hyper parameters\n",
    "best_clf"
=======
    "best_clf2"
>>>>>>> 97ecc4fbb9842024bb1ca171781fa33917653dad
   ]
  },
  {
   "cell_type": "markdown",
   "metadata": {},
   "source": [
    "### Question 5 - Final Model Evaluation\n",
    "\n",
    "* What is your optimized model's accuracy and F-score on the testing data? \n",
    "* Are these scores better or worse than the unoptimized model? \n",
    "* How do the results from your optimized model compare to the naive predictor benchmarks you found earlier in **Question 1**?_  \n",
    "\n",
    "**Note:** Fill in the table below with your results, and then provide discussion in the **Answer** box."
   ]
  },
  {
   "cell_type": "markdown",
   "metadata": {},
   "source": [
    "#### Results:\n",
    "\n",
    "|     Metric     | Unoptimized Model | Optimized Model |\n",
    "| :------------: | :---------------: | :-------------: | \n",
<<<<<<< HEAD
    "| Accuracy Score | 0.8576            |   0.8677        |\n",
    "| F-score        | 0.7246            |   0.7452        |\n"
   ]
  },
  {
   "cell_type": "code",
   "execution_count": 18,
   "metadata": {},
   "outputs": [
    {
     "name": "stdout",
     "output_type": "stream",
     "text": [
      "2.460855528652139\n",
      "2.5016142050040355\n",
      "1.4840589646897495\n",
      "1.5546794652039764\n"
     ]
    }
   ],
   "source": [
    "#Naive predictor\n",
    "naive_acc = 0.2478\n",
    "naive_fscore = 0.2917\n",
    "unoptimized_acc = 0.8576\n",
    "unoptimized_fscore = 0.7246\n",
    "optimized_acc = 0.8677\n",
    "optimized_fscore = 0.7452\n",
    "\n",
    "print((unoptimized_acc/naive_acc)-1)\n",
    "print((optimized_acc/naive_acc)-1)\n",
    "print((unoptimized_fscore/naive_fscore)-1)\n",
    "print((optimized_fscore/naive_fscore)-1)"
=======
    "| Accuracy Score |      0.8576       |    0.8666       |\n",
    "| F-score        |      0.7246       |    0.7432       |\n"
>>>>>>> 97ecc4fbb9842024bb1ca171781fa33917653dad
   ]
  },
  {
   "cell_type": "markdown",
   "metadata": {},
   "source": [
<<<<<<< HEAD
    "**Answer:**\n",
    "\n",
    "From the results above, we can see that the optimized model performs 1.2% better in accuracy and 2.8% better in the F-score compared to the unoptimized model. This is an reasonable improvement given the fact that we just had to test a few combinations of hyper parameters.\n",
    "\n",
    "On the other hand, both unoptimized and optimized models perform way better than the naive predictor. In terms of accurracy they perform 246% and 250% better respectevely. In the F-score, they perform 148% and 155% better respectevely. This is a huge improvement and shows that the ML model can outperform simple guess."
=======
    "**Answer: **"
>>>>>>> 97ecc4fbb9842024bb1ca171781fa33917653dad
   ]
  },
  {
   "cell_type": "markdown",
   "metadata": {},
   "source": [
    "----\n",
    "## Feature Importance\n",
    "\n",
    "An important task when performing supervised learning on a dataset like the census data we study here is determining which features provide the most predictive power. By focusing on the relationship between only a few crucial features and the target label we simplify our understanding of the phenomenon, which is most always a useful thing to do. In the case of this project, that means we wish to identify a small number of features that most strongly predict whether an individual makes at most or more than \\$50,000.\n",
    "\n",
    "Choose a scikit-learn classifier (e.g., adaboost, random forests) that has a `feature_importance_` attribute, which is a function that ranks the importance of features according to the chosen classifier.  In the next python cell fit this classifier to training set and use this attribute to determine the top 5 most important features for the census dataset."
   ]
  },
  {
   "cell_type": "markdown",
   "metadata": {},
   "source": [
    "### Question 6 - Feature Relevance Observation\n",
    "When **Exploring the Data**, it was shown there are thirteen available features for each individual on record in the census data. Of these thirteen records, which five features do you believe to be most important for prediction, and in what order would you rank them and why?"
   ]
  },
  {
   "cell_type": "markdown",
   "metadata": {},
   "source": [
    "**Answer:**\n",
    "\n",
<<<<<<< HEAD
    "We believe the features related to common sources of income are the most relevant for this model:\n",
    "\n",
    "   1) `education`: The higher the education level the more likely someone is to have a batter income regardless of the country analyzed.\n",
    "   \n",
    "   2) `native-country`: In general, immigrants from 3rd-world countries tend to earn less than natives form the US.\n",
    "   \n",
    "   3) `workclass`: Private sector and federal government jobs usually pay more than other jobs such as 'never worked'.\n",
    "   \n",
    "   4) `hours-per-week`: There's probably a high correlation between working more hours per week and the likelihood to have a higher income.\n",
    "   \n",
    "   5) `capital-gains`: Capital gains can boost a lot the income due to compound interest rates."
=======
    "I believe the features related to common sources of income are the most relevant for this model:\n",
    "\n",
    " 1) `education`: The higher the education level the more likely someones is to have a better income independently of the country.\n",
    "\n",
    " 2) `native-country`: As we all know, immigrants from 3rd-wolrd countries tend to earn less than natives from the US.\n",
    "\n",
    " 3) `workclass`: Private sector and federal governemnt jobs usually pay more than people that never worked.\n",
    "\n",
    " 4) `hours-per-week`: There's probably a high correlation between working more hours per week and income. \n",
    "\n",
    " 5) `capital-gains`: Capital gains can boost a lot the income due to compound interest rates."
>>>>>>> 97ecc4fbb9842024bb1ca171781fa33917653dad
   ]
  },
  {
   "cell_type": "markdown",
   "metadata": {},
   "source": [
    "### Implementation - Extracting Feature Importance\n",
    "Choose a `scikit-learn` supervised learning algorithm that has a `feature_importance_` attribute availble for it. This attribute is a function that ranks the importance of each feature when making predictions based on the chosen algorithm.\n",
    "\n",
    "In the code cell below, you will need to implement the following:\n",
    " - Import a supervised learning model from sklearn if it is different from the three used earlier.\n",
    " - Train the supervised model on the entire training set.\n",
    " - Extract the feature importances using `'.feature_importances_'`."
   ]
  },
  {
   "cell_type": "code",
<<<<<<< HEAD
   "execution_count": 25,
=======
   "execution_count": 24,
>>>>>>> 97ecc4fbb9842024bb1ca171781fa33917653dad
   "metadata": {},
   "outputs": [
    {
     "data": {
<<<<<<< HEAD
      "image/png": "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\n",
=======
      "image/png": "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\n",
>>>>>>> 97ecc4fbb9842024bb1ca171781fa33917653dad
      "text/plain": [
       "<Figure size 648x360 with 1 Axes>"
      ]
     },
<<<<<<< HEAD
     "metadata": {
      "needs_background": "light"
     },
=======
     "metadata": {},
>>>>>>> 97ecc4fbb9842024bb1ca171781fa33917653dad
     "output_type": "display_data"
    }
   ],
   "source": [
    "# TODO: Import a supervised learning model that has 'feature_importances_'\n",
    "from sklearn.ensemble import AdaBoostClassifier\n",
    "\n",
    "# TODO: Train the supervised model on the training set using .fit(X_train, y_train)\n",
    "start = time()\n",
    "model = AdaBoostClassifier(n_estimators=300, learning_rate=1.5, random_state=42).fit(X_train, y_train)\n",
    "end = time()\n",
    "full_model_training_time = end - start\n",
<<<<<<< HEAD
    "\n",
=======
>>>>>>> 97ecc4fbb9842024bb1ca171781fa33917653dad
    "# TODO: Extract the feature importances using .feature_importances_ \n",
    "importances = model.feature_importances_\n",
    "\n",
    "# Plot\n",
    "vs.feature_plot(importances, X_train, y_train)"
   ]
  },
  {
   "cell_type": "markdown",
   "metadata": {},
   "source": [
    "### Question 7 - Extracting Feature Importance\n",
    "\n",
    "Observe the visualization created above which displays the five most relevant features for predicting if an individual makes at most or above \\$50,000.  \n",
    "* How do these five features compare to the five features you discussed in **Question 6**?\n",
    "* If you were close to the same answer, how does this visualization confirm your thoughts? \n",
    "* If you were not close, why do you think these features are more relevant?"
   ]
  },
  {
   "cell_type": "markdown",
   "metadata": {},
   "source": [
    "**Answer:**\n",
    "\n",
<<<<<<< HEAD
    "As we can see, `capital gain/loss` have way more impact on the income than we expected. Hours worked per week also have an important impact as we have described before. On the other hand, we didn't focus on `age` and `education-num` as we thought the `education` feature would reflect both (the higher the education level the older/more educational years completed someone has). Overall, the most important features are aligned with our analysis."
=======
    "As we can see, capital gain/loss have way more impact on the income than we expected. Hours worked per week also have a important impact as expected. On the other hand, we didn't focus on `age` and `education-num` as we thought the `education` would reflect both (the higher the education level the older/more educational years completed). Overall the most important features are aligned with our analysis."
>>>>>>> 97ecc4fbb9842024bb1ca171781fa33917653dad
   ]
  },
  {
   "cell_type": "markdown",
   "metadata": {},
   "source": [
    "### Feature Selection\n",
    "How does a model perform if we only use a subset of all the available features in the data? With less features required to train, the expectation is that training and prediction time is much lower — at the cost of performance metrics. From the visualization above, we see that the top five most important features contribute more than half of the importance of **all** features present in the data. This hints that we can attempt to *reduce the feature space* and simplify the information required for the model to learn. The code cell below will use the same optimized model you found earlier, and train it on the same training set *with only the top five important features*. "
   ]
  },
  {
   "cell_type": "code",
<<<<<<< HEAD
   "execution_count": 26,
=======
   "execution_count": 25,
>>>>>>> 97ecc4fbb9842024bb1ca171781fa33917653dad
   "metadata": {},
   "outputs": [
    {
     "name": "stdout",
     "output_type": "stream",
     "text": [
      "Final Model trained on full data\n",
      "------\n",
<<<<<<< HEAD
      "Accuracy on testing data: 0.8677\n",
      "F-score on testing data: 0.7452\n",
      "\n",
      "Final Model trained on reduced data\n",
      "------\n",
      "Accuracy on testing data: 0.8421\n",
      "F-score on testing data: 0.7003\n"
=======
      "Accuracy on testing data: 0.8666\n",
      "F-score on testing data: 0.7432\n",
      "\n",
      "Final Model trained on reduced data\n",
      "------\n",
      "Accuracy on testing data: 0.8402\n",
      "F-score on testing data: 0.6960\n"
>>>>>>> 97ecc4fbb9842024bb1ca171781fa33917653dad
     ]
    }
   ],
   "source": [
    "# Import functionality for cloning a model\n",
    "from sklearn.base import clone\n",
    "\n",
    "# Reduce the feature space\n",
    "X_train_reduced = X_train[X_train.columns.values[(np.argsort(importances)[::-1])[:5]]]\n",
    "X_test_reduced = X_test[X_test.columns.values[(np.argsort(importances)[::-1])[:5]]]\n",
    "\n",
    "# Train on the \"best\" model found from grid search earlier\n",
    "start = time()\n",
<<<<<<< HEAD
    "clf = (clone(best_clf)).fit(X_train_reduced, y_train)\n",
    "end = time()\n",
    "\n",
=======
    "clf = (clone(best_clf2)).fit(X_train_reduced, y_train) ##TODO CHANGE IT BACK TO best_clf1\n",
    "end= time()\n",
>>>>>>> 97ecc4fbb9842024bb1ca171781fa33917653dad
    "reduced_model_training_time = end - start\n",
    "# Make new predictions\n",
    "reduced_predictions = clf.predict(X_test_reduced)\n",
    "\n",
    "# Report scores from the final model using both versions of data\n",
    "print(\"Final Model trained on full data\\n------\")\n",
    "print(\"Accuracy on testing data: {:.4f}\".format(accuracy_score(y_test, best_predictions)))\n",
    "print(\"F-score on testing data: {:.4f}\".format(fbeta_score(y_test, best_predictions, beta = 0.5)))\n",
    "print(\"\\nFinal Model trained on reduced data\\n------\")\n",
    "print(\"Accuracy on testing data: {:.4f}\".format(accuracy_score(y_test, reduced_predictions)))\n",
    "print(\"F-score on testing data: {:.4f}\".format(fbeta_score(y_test, reduced_predictions, beta = 0.5)))"
   ]
  },
  {
   "cell_type": "markdown",
   "metadata": {},
   "source": [
    "### Question 8 - Effects of Feature Selection\n",
    "\n",
    "* How does the final model's F-score and accuracy score on the reduced data using only five features compare to those same scores when all features are used?\n",
    "* If training time was a factor, would you consider using the reduced data as your training set?"
   ]
  },
  {
   "cell_type": "code",
<<<<<<< HEAD
   "execution_count": 27,
=======
   "execution_count": 26,
>>>>>>> 97ecc4fbb9842024bb1ca171781fa33917653dad
   "metadata": {},
   "outputs": [
    {
     "name": "stdout",
     "output_type": "stream",
     "text": [
<<<<<<< HEAD
      "Accuracy score difference: -2.94%\n",
      "F-score difference: -6.03%\n",
      "Training time difference: -44.28%\n"
=======
      "Accuracy score difference: -3.04%\n",
      "F-score score difference: -6.34%\n",
      "Training time difference: -69.57%\n"
>>>>>>> 97ecc4fbb9842024bb1ca171781fa33917653dad
     ]
    }
   ],
   "source": [
    "print(\"Accuracy score difference: {:.2f}%\".format(-100*(1-accuracy_score(y_test, reduced_predictions)/accuracy_score(y_test, best_predictions))))\n",
<<<<<<< HEAD
    "print(\"F-score difference: {:.2f}%\".format(-100*(1-fbeta_score(y_test, reduced_predictions, beta=0.5)/fbeta_score(y_test, best_predictions, beta=0.5))))\n",
=======
    "print(\"F-score score difference: {:.2f}%\".format(-100*(1-fbeta_score(y_test, reduced_predictions, beta = 0.5)/fbeta_score(y_test, best_predictions, beta = 0.5))))\n",
>>>>>>> 97ecc4fbb9842024bb1ca171781fa33917653dad
    "print(\"Training time difference: {:.2f}%\".format(-100*(1-reduced_model_training_time/full_model_training_time)))"
   ]
  },
  {
   "cell_type": "markdown",
   "metadata": {},
   "source": [
    "**Answer:**\n",
    "\n",
<<<<<<< HEAD
    "The model with reduced data performed with -3% accuracy score and -6% on F-score compared to the full model. However, in terms of training time it performs almost 44% faster. Hence, if the training time was a factor, we should take into consideration focusing on the most important features. Moreover, the reduced model outperforms by a large difference the naive predictor (240% accuracy score compared to naive, for instance)."
=======
    "The model with reduced data performed with -3% accuracy score/-6% on F-score compared to the full model. However, in terms of training time it performs almost 70% faster. Hence, if the trianing time was a factor, we should take into consideration focusing on the most important features. Moreover, the reduced model outperforms by a large difference the naive predictor (~25% accuracy)."
>>>>>>> 97ecc4fbb9842024bb1ca171781fa33917653dad
   ]
  },
  {
   "cell_type": "markdown",
   "metadata": {},
   "source": [
    "> **Note**: Once you have completed all of the code implementations and successfully answered each question above, you may finalize your work by exporting the iPython Notebook as an HTML document. You can do this by using the menu above and navigating to  \n",
    "**File -> Download as -> HTML (.html)**. Include the finished document along with this notebook as your submission."
   ]
  }
 ],
 "metadata": {
  "kernelspec": {
   "display_name": "Python 3",
   "language": "python",
   "name": "python3"
  },
  "language_info": {
   "codemirror_mode": {
    "name": "ipython",
    "version": 3
   },
   "file_extension": ".py",
   "mimetype": "text/x-python",
   "name": "python",
   "nbconvert_exporter": "python",
   "pygments_lexer": "ipython3",
<<<<<<< HEAD
   "version": "3.7.0"
=======
   "version": "3.6.5"
>>>>>>> 97ecc4fbb9842024bb1ca171781fa33917653dad
  }
 },
 "nbformat": 4,
 "nbformat_minor": 1
}
